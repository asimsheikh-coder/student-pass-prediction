{
 "cells": [
  {
   "cell_type": "markdown",
   "id": "d32bb636",
   "metadata": {},
   "source": [
    "# 📊 Logistic Regression — Student Pass Prediction\n",
    "\n",
    "This notebook demonstrates how to use **Logistic Regression** for a simple **binary classification** problem.  \n",
    "We’ll predict whether a student **passes or fails** an exam based on two study features:  \n",
    "- Hours studied  \n",
    "- Previous test score\n",
    "\n",
    "---\n",
    "\n",
    "## 🎯 Objectives\n",
    "- Understand the concept of **Logistic Regression** for binary classification.  \n",
    "- Implement it using **Scikit-learn**.  \n",
    "- Visualize decision boundaries and evaluate performance.\n",
    "\n",
    "---\n"
   ]
  },
  {
   "cell_type": "code",
   "execution_count": null,
   "id": "35a07c50",
   "metadata": {},
   "outputs": [],
   "source": [
    "# Import required libraries\n",
    "import numpy as np\n",
    "import pandas as pd\n",
    "import matplotlib.pyplot as plt\n",
    "import seaborn as sns\n",
    "from sklearn.model_selection import train_test_split\n",
    "from sklearn.linear_model import LogisticRegression\n",
    "from sklearn.metrics import confusion_matrix, classification_report, accuracy_score\n",
    "\n",
    "# Ignore warnings for clean output\n",
    "import warnings\n",
    "warnings.filterwarnings('ignore')"
   ]
  },
  {
   "cell_type": "markdown",
   "id": "20d08871",
   "metadata": {},
   "source": [
    "## 📚 Step 1: Create a Simple Dataset\n",
    "We'll create a small dataset of students with study hours and previous scores, and whether they passed (1) or failed (0)."
   ]
  },
  {
   "cell_type": "code",
   "execution_count": null,
   "id": "1bbeb278",
   "metadata": {},
   "outputs": [],
   "source": [
    "# Create dataset\n",
    "data = {\n",
    "    'Hours_Studied': [1, 2, 3, 4, 5, 6, 7, 8, 9, 10],\n",
    "    'Previous_Score': [40, 45, 50, 55, 60, 65, 70, 75, 80, 85],\n",
    "    'Passed': [0, 0, 0, 0, 1, 1, 1, 1, 1, 1]\n",
    "}\n",
    "\n",
    "df = pd.DataFrame(data)\n",
    "df.head()"
   ]
  },
  {
   "cell_type": "markdown",
   "id": "64380e5a",
   "metadata": {},
   "source": [
    "## 📊 Step 2: Visualize the Data"
   ]
  },
  {
   "cell_type": "code",
   "execution_count": null,
   "id": "3b371ca7",
   "metadata": {},
   "outputs": [],
   "source": [
    "plt.figure(figsize=(6,4))\n",
    "sns.scatterplot(x='Hours_Studied', y='Previous_Score', hue='Passed', data=df, palette='coolwarm', s=100)\n",
    "plt.title(\"Student Pass/Fail Data\")\n",
    "plt.xlabel(\"Hours Studied\")\n",
    "plt.ylabel(\"Previous Score\")\n",
    "plt.legend(title='Passed', labels=['Fail', 'Pass'])\n",
    "plt.grid(True)\n",
    "plt.show()"
   ]
  },
  {
   "cell_type": "markdown",
   "id": "cc711d65",
   "metadata": {},
   "source": [
    "## ⚙️ Step 3: Split Data into Train and Test Sets"
   ]
  },
  {
   "cell_type": "code",
   "execution_count": null,
   "id": "5d427ed4",
   "metadata": {},
   "outputs": [],
   "source": [
    "# Split features and labels\n",
    "X = df[['Hours_Studied', 'Previous_Score']]\n",
    "y = df['Passed']\n",
    "\n",
    "# Train-test split\n",
    "X_train, X_test, y_train, y_test = train_test_split(X, y, test_size=0.3, random_state=42)\n",
    "\n",
    "print(\"Training samples:\", len(X_train))\n",
    "print(\"Testing samples:\", len(X_test))"
   ]
  },
  {
   "cell_type": "markdown",
   "id": "448a93d4",
   "metadata": {},
   "source": [
    "## 🤖 Step 4: Train Logistic Regression Model"
   ]
  },
  {
   "cell_type": "code",
   "execution_count": null,
   "id": "65124fa6",
   "metadata": {},
   "outputs": [],
   "source": [
    "# Initialize and train model\n",
    "model = LogisticRegression()\n",
    "model.fit(X_train, y_train)\n",
    "\n",
    "# Make predictions\n",
    "y_pred = model.predict(X_test)\n",
    "\n",
    "# Evaluate model\n",
    "accuracy = accuracy_score(y_test, y_pred)\n",
    "print(f\"✅ Model Accuracy: {accuracy*100:.2f}%\")"
   ]
  },
  {
   "cell_type": "markdown",
   "id": "0c9e888c",
   "metadata": {},
   "source": [
    "## 📉 Step 5: Evaluate Performance"
   ]
  },
  {
   "cell_type": "code",
   "execution_count": null,
   "id": "4a1c3a8d",
   "metadata": {},
   "outputs": [],
   "source": [
    "# Confusion Matrix and Report\n",
    "cm = confusion_matrix(y_test, y_pred)\n",
    "sns.heatmap(cm, annot=True, cmap='Blues', fmt='d', xticklabels=['Fail', 'Pass'], yticklabels=['Fail', 'Pass'])\n",
    "plt.title(\"Confusion Matrix\")\n",
    "plt.xlabel(\"Predicted\")\n",
    "plt.ylabel(\"Actual\")\n",
    "plt.show()\n",
    "\n",
    "print(\"\\nClassification Report:\")\n",
    "print(classification_report(y_test, y_pred))"
   ]
  },
  {
   "cell_type": "markdown",
   "id": "e1981a98",
   "metadata": {},
   "source": [
    "## 📈 Step 6: Visualize Decision Boundary"
   ]
  },
  {
   "cell_type": "code",
   "execution_count": null,
   "id": "106740c9",
   "metadata": {},
   "outputs": [],
   "source": [
    "# Plot decision boundary\n",
    "x_min, x_max = X['Hours_Studied'].min() - 1, X['Hours_Studied'].max() + 1\n",
    "y_min, y_max = X['Previous_Score'].min() - 5, X['Previous_Score'].max() + 5\n",
    "xx, yy = np.meshgrid(np.arange(x_min, x_max, 0.1), np.arange(y_min, y_max, 0.5))\n",
    "Z = model.predict(np.c_[xx.ravel(), yy.ravel()])\n",
    "Z = Z.reshape(xx.shape)\n",
    "\n",
    "plt.figure(figsize=(8,6))\n",
    "plt.contourf(xx, yy, Z, alpha=0.4, cmap='coolwarm')\n",
    "sns.scatterplot(x='Hours_Studied', y='Previous_Score', hue='Passed', data=df, palette='coolwarm', s=100, edgecolor='k')\n",
    "plt.title(\"Decision Boundary — Logistic Regression\")\n",
    "plt.xlabel(\"Hours Studied\")\n",
    "plt.ylabel(\"Previous Score\")\n",
    "plt.show()"
   ]
  },
  {
   "cell_type": "markdown",
   "id": "aaca9d7f",
   "metadata": {},
   "source": [
    "## 🧮 Step 7: Predict on New Data"
   ]
  },
  {
   "cell_type": "code",
   "execution_count": null,
   "id": "a832dfa2",
   "metadata": {},
   "outputs": [],
   "source": [
    "# New student data\n",
    "new_student = pd.DataFrame({'Hours_Studied': [4.5, 7.5], 'Previous_Score': [58, 78]})\n",
    "predictions = model.predict(new_student)\n",
    "probabilities = model.predict_proba(new_student)\n",
    "\n",
    "for i, row in new_student.iterrows():\n",
    "    print(f\"Student with {row['Hours_Studied']} hrs & score {row['Previous_Score']} → Prediction: {'Pass' if predictions[i]==1 else 'Fail'} (Prob Pass: {probabilities[i][1]:.2f})\")"
   ]
  },
  {
   "cell_type": "markdown",
   "id": "0989042f",
   "metadata": {},
   "source": [
    "---\n",
    "### ✅ Summary\n",
    "In this notebook, you learned:\n",
    "- How **Logistic Regression** models binary outcomes (Pass/Fail).  \n",
    "- How to visualize and interpret decision boundaries.  \n",
    "- How to predict probabilities for new samples.  \n",
    "\n",
    "---\n"
   ]
  }
 ],
 "metadata": {},
 "nbformat": 4,
 "nbformat_minor": 5
}
